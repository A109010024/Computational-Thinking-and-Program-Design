{
  "nbformat": 4,
  "nbformat_minor": 0,
  "metadata": {
    "kernelspec": {
      "display_name": "Python 3",
      "language": "python",
      "name": "python3"
    },
    "language_info": {
      "codemirror_mode": {
        "name": "ipython",
        "version": 3
      },
      "file_extension": ".py",
      "mimetype": "text/x-python",
      "name": "python",
      "nbconvert_exporter": "python",
      "pygments_lexer": "ipython3",
      "version": "3.8.5"
    },
    "colab": {
      "name": "「張佳倪-Week11-作業(期末腳本).ipynb」",
      "provenance": [],
      "include_colab_link": true
    }
  },
  "cells": [
    {
      "cell_type": "markdown",
      "metadata": {
        "id": "view-in-github",
        "colab_type": "text"
      },
      "source": [
        "<a href=\"https://colab.research.google.com/github/A109010024/Computational-Thinking-and-Program-Design/blob/main/%E3%80%8C%E5%BC%B5%E4%BD%B3%E5%80%AA_Week11_%E4%BD%9C%E6%A5%AD(%E6%9C%9F%E6%9C%AB%E8%85%B3%E6%9C%AC)_ipynb%E3%80%8D.ipynb\" target=\"_parent\"><img src=\"https://colab.research.google.com/assets/colab-badge.svg\" alt=\"Open In Colab\"/></a>"
      ]
    },
    {
      "cell_type": "markdown",
      "metadata": {
        "id": "Nn5bW4RyvRax"
      },
      "source": [
        "# 基本程式設計(應用篇)"
      ]
    },
    {
      "cell_type": "markdown",
      "metadata": {
        "id": "FwRQmeEOvRa2"
      },
      "source": [
        "### 4-2 運算思維四個基石"
      ]
    },
    {
      "cell_type": "markdown",
      "metadata": {
        "id": "hwZQvU0IvRa3"
      },
      "source": [
        "#### 4-2-4  問題拆解 - 打造你的聊天機器人"
      ]
    },
    {
      "cell_type": "markdown",
      "metadata": {
        "id": "lC9Yh4TqvRa3"
      },
      "source": [
        "「哈囉，大家好。我叫Zyxo64，是一個聊天機器人。\n",
        "\n",
        "在嗜好與興趣方面，我很喜歡美食，也喜歡養動物。\n",
        "\n",
        "很高興有機會來到世新大學，請大家多多指教。\n",
        "\n",
        "嗨！妳好，請問大名？：Francis。\n",
        "\n",
        "Francis，很高興認識你。"
      ]
    },
    {
      "cell_type": "code",
      "metadata": {
        "id": "GBP6UgAkvRa4"
      },
      "source": [
        "# 1.聊天機器人自我介紹\n",
        "\n",
        "\n",
        "# 2. 打招呼，取得對方名字\n"
      ],
      "execution_count": null,
      "outputs": []
    },
    {
      "cell_type": "markdown",
      "metadata": {
        "id": "Ma8z-8ulvRa4"
      },
      "source": [
        "抱歉，請問一下今年是西元2021年，那是民國幾年呢？：*110*。\n",
        "\n",
        "對！沒錯，謝謝妳！\n",
        "\n",
        "**Francis**，猜猜看我今年幾歲？ ：**18**。\n",
        "\n",
        "哇！你好聰明，我今年的確*18*。\n",
        "\n",
        "再82年我就100歲了。\n",
        "\n",
        "那時候是西元 2103年，也就是民國192年囉！"
      ]
    },
    {
      "cell_type": "code",
      "metadata": {
        "id": "UuZMMzzivRa5"
      },
      "source": [
        "# 3. 數學運算\n",
        "## 3-1 從使用者取得今年年份\n",
        "\n",
        "\n",
        "## 3-2 請使用者猜年齡\n",
        "\n",
        "\n",
        "## 3-3 計算聊天機器人滿100歲的年份\n",
        "\n"
      ],
      "execution_count": null,
      "outputs": []
    },
    {
      "cell_type": "markdown",
      "metadata": {
        "id": "qHvQaSDUvRa5"
      },
      "source": [
        "我喜歡吃巧克力，也喜歡嘗試各種新食物。\n",
        "\n",
        "你呢？你最喜歡的食物是什麼？**:披薩**。\n",
        "\n",
        "我也喜歡 *披薩*。\n",
        "\n",
        "你多久吃一次 *披薩*？**：每天**。\n",
        "\n",
        "真有趣。不知道這樣對健康好不好。"
      ]
    },
    {
      "cell_type": "code",
      "metadata": {
        "id": "2nUuM4vJvRa5"
      },
      "source": [
        "# 4 興趣\n",
        "## 4-1 食物話題\n"
      ],
      "execution_count": null,
      "outputs": []
    },
    {
      "cell_type": "markdown",
      "metadata": {
        "id": "rBn8ApuFvRa5"
      },
      "source": [
        "我最喜歡的動物是長頸鹿。你呢？ **：烏龜**。\n",
        "\n",
        "我不喜歡*烏龜*！\n",
        "\n",
        "不知道 *烏龜* 喜不喜歡吃 *披薩*？"
      ]
    },
    {
      "cell_type": "code",
      "metadata": {
        "id": "52jMWuubvRa6"
      },
      "source": [
        "# 4 興趣\n",
        "## 4-2 動物話題\n"
      ],
      "execution_count": null,
      "outputs": []
    },
    {
      "cell_type": "markdown",
      "metadata": {
        "id": "x87hbSK0vRa6"
      },
      "source": [
        "你今天的心情如何？ **：很開心**。\n",
        "\n",
        "可以告訴我你 *開心* 的原因嗎？**因為週末了！** \n",
        "\n",
        "祝你週末愉快！\n",
        "\n",
        "我喜歡跟你聊天，現在有點累了，改天再聊吧！！\n",
        "\n",
        "再見 *Francis*！"
      ]
    },
    {
      "cell_type": "code",
      "metadata": {
        "id": "z2UHreTZvRa6"
      },
      "source": [
        "# 5. 關於心情的對話\n"
      ],
      "execution_count": null,
      "outputs": []
    },
    {
      "cell_type": "markdown",
      "metadata": {
        "id": "tUYhTYV-vRa6"
      },
      "source": [
        "我喜歡跟你聊天，現在有點累了，改天再聊吧！！\n",
        "\n",
        "再見 *Francis*！"
      ]
    },
    {
      "cell_type": "code",
      "metadata": {
        "id": "aoCiqsfAvRa6"
      },
      "source": [
        "# 6. 道別\n"
      ],
      "execution_count": null,
      "outputs": []
    },
    {
      "cell_type": "markdown",
      "metadata": {
        "id": "lHiTdTd-vRa7"
      },
      "source": [
        "## 期末報告"
      ]
    },
    {
      "cell_type": "markdown",
      "metadata": {
        "id": "zm3zL7onvRa7"
      },
      "source": [
        "### 組長(學號姓名):\n",
        "####陳安婷 A109010021\n",
        "\n"
      ]
    },
    {
      "cell_type": "markdown",
      "metadata": {
        "id": "fNFKFUJHvRa7"
      },
      "source": [
        "### 組員(學號姓名):\n",
        "###張佳倪 A109010024\n",
        "###方嘉琳 A109010171\n",
        "###鍾秉哲 A109010114\n",
        "\n"
      ]
    },
    {
      "cell_type": "markdown",
      "metadata": {
        "id": "qlSEKJvcvRa7"
      },
      "source": [
        "### 題目:\n",
        "\n",
        "###提供新生世新附近早餐資訊"
      ]
    },
    {
      "cell_type": "markdown",
      "metadata": {
        "id": "sFIqNPntvRa7"
      },
      "source": [
        "### 百字腳本\n",
        "####即將進入新生升上大學的時節，所以我們希望做出一個程式，可以替新生解決問題，讓他們在無人可問、人生地不熟的時候，還有方法解決遇到三餐煩惱的難題。\n",
        "\n",
        "Robert:Hi,你好，我是Shu。請問有什麼我可以幫你的嗎?\n",
        "\n",
        "New_student:請問學校附近有什麼好吃的早餐店嗎?\n",
        "\n",
        "Robert:你真內行，問我就對了!學校後門有一條早餐街，有吉得堡、佳蒂、米樂等等供你選擇。吉得堡的義大利麵和花生醬豬排吐司超級推!佳蒂的薯餅蛋捲便宜又好吃，米樂的抹茶厚片和薯餅蛋餅必點不可!飲料的部分大同小異，看你自己怎麼決定。\n",
        "\n",
        "New_student:那我想要吃吉得堡，請問現在是否有營業呢?\n",
        "\n",
        "Robert:是的，現在營業中呦!吉得堡從早上7:00開到下午3:00。\n",
        "\n",
        "New_student:好的，我知道了!謝謝你。我今天想吃義大利麵加大冰奶，這樣總共多少錢呢?\n",
        "\n",
        "Robert:義大利麵40元，大冰奶25元，這樣總共65元。\n",
        "\n",
        "New_student:不好意思，我數學不太好，我身上只有一張500元大鈔，這樣他要找我多少錢呢?\n",
        "\n",
        "Robert:他要找你500元-65元，所以是435元。\n",
        "\n",
        "New_student:好的，我明白了，謝謝你，有你真好!\n",
        "\n"
      ]
    }
  ]
}
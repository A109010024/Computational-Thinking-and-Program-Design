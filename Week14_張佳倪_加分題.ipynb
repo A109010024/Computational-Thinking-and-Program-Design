{
  "nbformat": 4,
  "nbformat_minor": 0,
  "metadata": {
    "colab": {
      "name": "Week14-張佳倪-加分題.ipynb",
      "provenance": [],
      "authorship_tag": "ABX9TyNryyHh/wEvD9LTaLTnn6i/",
      "include_colab_link": true
    },
    "kernelspec": {
      "name": "python3",
      "display_name": "Python 3"
    },
    "language_info": {
      "name": "python"
    }
  },
  "cells": [
    {
      "cell_type": "markdown",
      "metadata": {
        "id": "view-in-github",
        "colab_type": "text"
      },
      "source": [
        "<a href=\"https://colab.research.google.com/github/A109010024/Computational-Thinking-and-Program-Design/blob/main/Week14_%E5%BC%B5%E4%BD%B3%E5%80%AA_%E5%8A%A0%E5%88%86%E9%A1%8C.ipynb\" target=\"_parent\"><img src=\"https://colab.research.google.com/assets/colab-badge.svg\" alt=\"Open In Colab\"/></a>"
      ]
    },
    {
      "cell_type": "markdown",
      "metadata": {
        "id": "mlaAowRljwSt"
      },
      "source": [
        "####**加分題: 棒打老虎雞吃蟲(Optional)**\n",
        "棒打老虎雞吃蟲跟剪刀石頭布是類似的遊戲,練習一下你是否也可以寫出類似的小遊戲呢?"
      ]
    },
    {
      "cell_type": "code",
      "metadata": {
        "colab": {
          "base_uri": "https://localhost:8080/"
        },
        "id": "9wTr1fErkLFm",
        "outputId": "01ed1a81-1caa-4810-e459-4145195d76ff"
      },
      "source": [
        "my_choice=int(input('請出拳[0] 蟲[1] 雞[2] 老虎[3] 棒子 '))\n",
        "print('你出的拳:',my_choice)\n",
        "import random\n",
        "com_choice=random.randint(0,3)\n",
        "print('電腦出拳為',com_choice)\n",
        "if my_choice==(com_choice+1)%4:\n",
        "  print('我贏了')\n",
        "elif com_choice==(my_choice+1)%4:\n",
        "  print('電腦贏了')\n",
        "else:\n",
        "  print('平手')"
      ],
      "execution_count": 2,
      "outputs": [
        {
          "output_type": "stream",
          "text": [
            "請出拳[0] 蟲[1] 雞[2] 老虎[3] 棒子 1\n",
            "你出的拳: 1\n",
            "電腦出拳為 2\n",
            "電腦贏了\n"
          ],
          "name": "stdout"
        }
      ]
    },
    {
      "cell_type": "code",
      "metadata": {
        "id": "4j8devOumLOE"
      },
      "source": [
        ""
      ],
      "execution_count": null,
      "outputs": []
    }
  ]
}
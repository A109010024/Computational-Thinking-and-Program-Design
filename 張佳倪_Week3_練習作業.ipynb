{
  "nbformat": 4,
  "nbformat_minor": 0,
  "metadata": {
    "colab": {
      "name": "張佳倪-Week3-練習作業.ipynb",
      "provenance": [],
      "authorship_tag": "ABX9TyOkwmm9xWxxM32Q5fTgoNfq",
      "include_colab_link": true
    },
    "kernelspec": {
      "name": "python3",
      "display_name": "Python 3"
    }
  },
  "cells": [
    {
      "cell_type": "markdown",
      "metadata": {
        "id": "view-in-github",
        "colab_type": "text"
      },
      "source": [
        "<a href=\"https://colab.research.google.com/github/A109010024/Computational-Thinking-and-Program-Design/blob/main/%E5%BC%B5%E4%BD%B3%E5%80%AA_Week3_%E7%B7%B4%E7%BF%92%E4%BD%9C%E6%A5%AD.ipynb\" target=\"_parent\"><img src=\"https://colab.research.google.com/assets/colab-badge.svg\" alt=\"Open In Colab\"/></a>"
      ]
    },
    {
      "cell_type": "markdown",
      "metadata": {
        "id": "Qdxx_S1yNY3D"
      },
      "source": [
        "#**隨堂練習**"
      ]
    },
    {
      "cell_type": "markdown",
      "metadata": {
        "id": "sc0VcB72Rj5d"
      },
      "source": [
        "###**<筆記>**\r\n",
        "###-課程精神-用電腦解決問題\r\n",
        "###-電腦:軟體、硬體組成，電腦軟硬體都是以「輸入-處理-輸出」為架構。\r\n",
        "###-硬體組成的四個單元:\r\n",
        "####1.輸入單元 (input unit)\r\n",
        "####2.處理單元 (processing unit)\r\n",
        "####3.記憶單元 (memory unit)\r\n",
        "####4.輸出單元 (output unit)\r\n",
        "###-運算思維是一種解決問題的方法\r\n",
        "###-用電腦解決問題的四步驟\r\n",
        "####1.運算思維\r\n",
        "####2.程式設計\r\n",
        "####3.程式編碼\r\n",
        "####4.測試與除錯"
      ]
    },
    {
      "cell_type": "markdown",
      "metadata": {
        "id": "xln7k2X2O0to"
      },
      "source": [
        "#課後練習"
      ]
    },
    {
      "cell_type": "markdown",
      "metadata": {
        "id": "WtjewQ3wP3Gn"
      },
      "source": [
        "###從一則新聞報導，提出你對新聞系（OO系）學生為什麼要學「運算思維與程式設計」的見解。（告訴我新聞連結，以及你的觀點即可。） 粗體文字"
      ]
    },
    {
      "cell_type": "code",
      "metadata": {
        "id": "x5jQzfEwP5jN"
      },
      "source": [
        ""
      ],
      "execution_count": null,
      "outputs": []
    }
  ]
}
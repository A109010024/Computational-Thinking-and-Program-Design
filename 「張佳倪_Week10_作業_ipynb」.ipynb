{
  "nbformat": 4,
  "nbformat_minor": 0,
  "metadata": {
    "kernelspec": {
      "display_name": "Python 3",
      "language": "python",
      "name": "python3"
    },
    "language_info": {
      "codemirror_mode": {
        "name": "ipython",
        "version": 3
      },
      "file_extension": ".py",
      "mimetype": "text/x-python",
      "name": "python",
      "nbconvert_exporter": "python",
      "pygments_lexer": "ipython3",
      "version": "3.8.5"
    },
    "colab": {
      "name": "「張佳倪-Week10-作業.ipynb」",
      "provenance": [],
      "include_colab_link": true
    }
  },
  "cells": [
    {
      "cell_type": "markdown",
      "metadata": {
        "id": "view-in-github",
        "colab_type": "text"
      },
      "source": [
        "<a href=\"https://colab.research.google.com/github/A109010024/Computational-Thinking-and-Program-Design/blob/main/%E3%80%8C%E5%BC%B5%E4%BD%B3%E5%80%AA_Week10_%E4%BD%9C%E6%A5%AD_ipynb%E3%80%8D.ipynb\" target=\"_parent\"><img src=\"https://colab.research.google.com/assets/colab-badge.svg\" alt=\"Open In Colab\"/></a>"
      ]
    },
    {
      "cell_type": "markdown",
      "metadata": {
        "id": "bkBMuwO3hJIT"
      },
      "source": [
        "# 基本程式設計(應用篇)"
      ]
    },
    {
      "cell_type": "markdown",
      "metadata": {
        "id": "MjDvQADWhJIw"
      },
      "source": [
        "### 4-2 運算思維四個基石"
      ]
    },
    {
      "cell_type": "markdown",
      "metadata": {
        "id": "rUxTsP8hhJI1"
      },
      "source": [
        "#### 4-2-4  問題拆解 - 打造你的聊天機器人"
      ]
    },
    {
      "cell_type": "markdown",
      "metadata": {
        "id": "N3BsusHVhJI4"
      },
      "source": [
        "「哈囉，大家好。我叫Zyxo64，是一個聊天機器人。\n",
        "\n",
        "在嗜好與興趣方面，我很喜歡美食，也喜歡養動物。\n",
        "\n",
        "很高興有機會來到世新大學，請大家多多指教。\n",
        "\n",
        "嗨！妳好，請問大名？：Francis。\n",
        "\n",
        "Francis，很高興認識你。"
      ]
    },
    {
      "cell_type": "code",
      "metadata": {
        "id": "FAU3mRtQhJI7",
        "colab": {
          "base_uri": "https://localhost:8080/"
        },
        "outputId": "75a501f8-b2e7-4755-c980-883029690f66"
      },
      "source": [
        "# 1.聊天機器人自我介紹\n",
        "print(\"哈囉,大家好。我叫Lydia,是一個聊天機器人。\")\n",
        "print(\"我很喜歡美食也很喜歡養動物\")\n",
        "print(\"很高興有機會來到世新大學,請大家多多指教。\")\n",
        "\n",
        "# 2. 打招呼，取得對方名字\n",
        "name=input(\"嗨!你好,請問大名?\")\n",
        "print(name,\"很高興認識你\")"
      ],
      "execution_count": 9,
      "outputs": [
        {
          "output_type": "stream",
          "text": [
            "哈囉,大家好。我叫Lydia,是一個聊天機器人。\n",
            "我很喜歡美食也很喜歡養動物\n",
            "很高興有機會來到世新大學,請大家多多指教。\n",
            "嗨!你好,請問大名?Stacy\n",
            "Stacy 很高興認識你\n"
          ],
          "name": "stdout"
        }
      ]
    },
    {
      "cell_type": "markdown",
      "metadata": {
        "id": "fNDdj1SZhJI-"
      },
      "source": [
        "抱歉，請問一下今年是西元2021年，那是民國幾年呢？：*110*。\n",
        "\n",
        "對！沒錯，謝謝妳！\n",
        "\n",
        "**Francis**，猜猜看我今年幾歲？ ：**18**。\n",
        "\n",
        "哇！你好聰明，我今年的確*18*。\n",
        "\n",
        "再82年我就100歲了。\n",
        "\n",
        "那時候是西元 2103年，也就是民國192年囉！"
      ]
    },
    {
      "cell_type": "code",
      "metadata": {
        "id": "pOQYsSHRhJJA",
        "colab": {
          "base_uri": "https://localhost:8080/",
          "height": 236
        },
        "outputId": "854bd92f-202b-41ab-899b-cd0dae06e848"
      },
      "source": [
        "# 3. 數學運算\n",
        "## 3-1 從使用者取得今年年份\n",
        "years=input(\"抱歉,請問一下今年是西元2021年，那是民國幾年呢?\")\n",
        "print(\"對!沒錯,謝謝你!\")\n",
        "\n",
        "## 3-2 請使用者猜年齡\n",
        "print(\"老師，這個部份我按照自己的思路寫，但我不確定是哪裡出了問題導致程式無法執行\")\n",
        "\n",
        "input=(\"age\")\n",
        "print(\"robert_name,猜猜看我今年幾歲?\",age)\n",
        "\n",
        "## 3-3 計算聊天機器人滿100歲的年份\n",
        "print(\"哇!你好聰明!我今年的確18\")\n",
        "print(\"再82年我就100歲。\")\n",
        "print(\"那時候是西元2103年,也就是民國192年囉!\")\n",
        "\n"
      ],
      "execution_count": 4,
      "outputs": [
        {
          "output_type": "error",
          "ename": "TypeError",
          "evalue": "ignored",
          "traceback": [
            "\u001b[0;31m---------------------------------------------------------------------------\u001b[0m",
            "\u001b[0;31mTypeError\u001b[0m                                 Traceback (most recent call last)",
            "\u001b[0;32m<ipython-input-4-1e1dffcda4f1>\u001b[0m in \u001b[0;36m<module>\u001b[0;34m()\u001b[0m\n\u001b[1;32m      1\u001b[0m \u001b[0;31m# 3. 數學運算\u001b[0m\u001b[0;34m\u001b[0m\u001b[0;34m\u001b[0m\u001b[0;34m\u001b[0m\u001b[0m\n\u001b[1;32m      2\u001b[0m \u001b[0;31m## 3-1 從使用者取得今年年份\u001b[0m\u001b[0;34m\u001b[0m\u001b[0;34m\u001b[0m\u001b[0;34m\u001b[0m\u001b[0m\n\u001b[0;32m----> 3\u001b[0;31m \u001b[0myears\u001b[0m\u001b[0;34m=\u001b[0m\u001b[0minput\u001b[0m\u001b[0;34m(\u001b[0m\u001b[0;34m\"抱歉,請問一下今年是西元2021年，那是民國幾年呢?\"\u001b[0m\u001b[0;34m)\u001b[0m\u001b[0;34m\u001b[0m\u001b[0;34m\u001b[0m\u001b[0m\n\u001b[0m\u001b[1;32m      4\u001b[0m \u001b[0mprint\u001b[0m\u001b[0;34m(\u001b[0m\u001b[0;34m\"對!沒錯,謝謝你!\"\u001b[0m\u001b[0;34m)\u001b[0m\u001b[0;34m\u001b[0m\u001b[0;34m\u001b[0m\u001b[0m\n\u001b[1;32m      5\u001b[0m \u001b[0;34m\u001b[0m\u001b[0m\n",
            "\u001b[0;31mTypeError\u001b[0m: 'str' object is not callable"
          ]
        }
      ]
    },
    {
      "cell_type": "markdown",
      "metadata": {
        "id": "7vl2FQ25hJJC"
      },
      "source": [
        "我喜歡吃巧克力，也喜歡嘗試各種新食物。\n",
        "\n",
        "你呢？你最喜歡的食物是什麼？**:披薩**。\n",
        "\n",
        "我也喜歡 *披薩*。\n",
        "\n",
        "你多久吃一次 *披薩*？**：每天**。\n",
        "\n",
        "真有趣。不知道這樣對健康好不好。"
      ]
    },
    {
      "cell_type": "code",
      "metadata": {
        "id": "kOWSfYTjhJJE",
        "colab": {
          "base_uri": "https://localhost:8080/"
        },
        "outputId": "a2ba4db6-7587-4d73-db8a-1212b0c6e733"
      },
      "source": [
        "# 4 興趣\n",
        "## 4-1 食物話題\n",
        "print(\"我喜歡吃巧克力,也喜歡嘗試各種新食物\")\n",
        "food=input(\"你呢?你最喜歡的食物是什麼?\")\n",
        "print(\"我也喜歡\",food)\n",
        "question=\"你多久吃一次\"+food+\"?\"\n",
        "howoften=input(question)\n",
        "print(\"真有趣。不知道這樣對身體好不好\")"
      ],
      "execution_count": 12,
      "outputs": [
        {
          "output_type": "stream",
          "text": [
            "我喜歡吃巧克力,也喜歡嘗試各種新食物\n",
            "你呢?你最喜歡的食物是什麼?pizza\n",
            "我也喜歡 pizza\n",
            "你多久吃一次pizza?four times a week\n",
            "真有趣。不知道這樣對身體好不好\n"
          ],
          "name": "stdout"
        }
      ]
    },
    {
      "cell_type": "markdown",
      "metadata": {
        "id": "VePvvBCyhJJF"
      },
      "source": [
        "我最喜歡的動物是長頸鹿。你呢？ **：烏龜**。\n",
        "\n",
        "我不喜歡*烏龜*！\n",
        "\n",
        "不知道 *烏龜* 喜不喜歡吃 *披薩*？"
      ]
    },
    {
      "cell_type": "code",
      "metadata": {
        "id": "fTpuRBYghJJH",
        "colab": {
          "base_uri": "https://localhost:8080/"
        },
        "outputId": "02740dee-173a-4fd2-ee6b-c815d5ea96fb"
      },
      "source": [
        "# 4 興趣\n",
        "## 4-2 動物話題\n",
        "animal=input(\"我最喜歡的動物是長頸鹿。你呢?\")\n",
        "print(\"我不喜歡\",animal)\n",
        "print(\"不知道\",animal,\"喜不喜歡吃\",food)"
      ],
      "execution_count": 14,
      "outputs": [
        {
          "output_type": "stream",
          "text": [
            "我最喜歡的動物是長頸鹿。你呢?turtle\n",
            "我不喜歡 turtle\n",
            "不知道 turtle 喜不喜歡吃 pizza\n"
          ],
          "name": "stdout"
        }
      ]
    },
    {
      "cell_type": "markdown",
      "metadata": {
        "id": "_HbO4bIJhJJI"
      },
      "source": [
        "你今天的心情如何？ **：很開心**。\n",
        "\n",
        "可以告訴我你 *開心* 的原因嗎？**因為週末了！** \n",
        "\n",
        "祝你週末愉快！\n",
        "\n",
        "我喜歡跟你聊天，現在有點累了，改天再聊吧！！\n",
        "\n",
        "再見 *Francis*！"
      ]
    },
    {
      "cell_type": "code",
      "metadata": {
        "id": "vcD2_LU-hJJK",
        "colab": {
          "base_uri": "https://localhost:8080/"
        },
        "outputId": "fde54966-4532-4a99-c007-36ceee3e1114"
      },
      "source": [
        "# 5. 關於心情的對話\n",
        "mood=input(\"你今天心情如何?\")\n",
        "question=input(\"可以告訴我你\"+mood+\"的原因嗎?\")\n",
        "print(\"祝你週末愉快!\")\n",
        "print(\"我喜歡跟你聊天,現在有點累了,改天再聊吧!\")\n",
        "print(\"再見\",name)"
      ],
      "execution_count": 20,
      "outputs": [
        {
          "output_type": "stream",
          "text": [
            "你今天心情如何?very good\n",
            "可以告訴我你very good的原因嗎?因為要週末了\n",
            "祝你週末愉快!\n",
            "我喜歡跟你聊天,現在有點累了,改天再聊吧!\n",
            "再見 Stacy\n"
          ],
          "name": "stdout"
        }
      ]
    },
    {
      "cell_type": "markdown",
      "metadata": {
        "id": "5x-FI4iyhJJL"
      },
      "source": [
        "我喜歡跟你聊天，現在有點累了，改天再聊吧！！\n",
        "\n",
        "再見 *Francis*！"
      ]
    },
    {
      "cell_type": "code",
      "metadata": {
        "id": "4kQd9UPIhJJM"
      },
      "source": [
        "# 6. 道別\n"
      ],
      "execution_count": null,
      "outputs": []
    },
    {
      "cell_type": "markdown",
      "metadata": {
        "id": "Q83yMuBdhJJN"
      },
      "source": [
        "## 期末報告"
      ]
    },
    {
      "cell_type": "markdown",
      "metadata": {
        "id": "rzgN_YwEhJJO"
      },
      "source": [
        "### 組長(學號姓名):\n",
        "\n"
      ]
    },
    {
      "cell_type": "code",
      "metadata": {
        "id": "_l3QI0Ixi2-4"
      },
      "source": [
        ""
      ],
      "execution_count": null,
      "outputs": []
    },
    {
      "cell_type": "markdown",
      "metadata": {
        "id": "3gxPsvdzhJJP"
      },
      "source": [
        "### 組員(學號姓名):\n",
        "\n"
      ]
    },
    {
      "cell_type": "markdown",
      "metadata": {
        "id": "3yQJrWfehJJP"
      },
      "source": [
        "### 題目:"
      ]
    },
    {
      "cell_type": "markdown",
      "metadata": {
        "id": "Jj9tFCYihJJP"
      },
      "source": [
        "### 百字腳本\n",
        "\n"
      ]
    }
  ]
}
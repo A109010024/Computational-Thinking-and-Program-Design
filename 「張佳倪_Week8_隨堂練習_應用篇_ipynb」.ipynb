{
  "nbformat": 4,
  "nbformat_minor": 0,
  "metadata": {
    "kernelspec": {
      "display_name": "Python 3",
      "language": "python",
      "name": "python3"
    },
    "language_info": {
      "codemirror_mode": {
        "name": "ipython",
        "version": 3
      },
      "file_extension": ".py",
      "mimetype": "text/x-python",
      "name": "python",
      "nbconvert_exporter": "python",
      "pygments_lexer": "ipython3",
      "version": "3.8.5"
    },
    "colab": {
      "name": "「張佳倪-Week8-隨堂練習-應用篇.ipynb」",
      "provenance": [],
      "include_colab_link": true
    }
  },
  "cells": [
    {
      "cell_type": "markdown",
      "metadata": {
        "id": "view-in-github",
        "colab_type": "text"
      },
      "source": [
        "<a href=\"https://colab.research.google.com/github/A109010024/Computational-Thinking-and-Program-Design/blob/main/%E3%80%8C%E5%BC%B5%E4%BD%B3%E5%80%AA_Week8_%E9%9A%A8%E5%A0%82%E7%B7%B4%E7%BF%92_%E6%87%89%E7%94%A8%E7%AF%87_ipynb%E3%80%8D.ipynb\" target=\"_parent\"><img src=\"https://colab.research.google.com/assets/colab-badge.svg\" alt=\"Open In Colab\"/></a>"
      ]
    },
    {
      "cell_type": "markdown",
      "metadata": {
        "id": "wpkD_7hZco-7"
      },
      "source": [
        "# 基本程式設計(應用篇)"
      ]
    },
    {
      "cell_type": "markdown",
      "metadata": {
        "id": "5a33EG0oco_B"
      },
      "source": [
        "## 4. 應用練習"
      ]
    },
    {
      "cell_type": "markdown",
      "metadata": {
        "id": "cjqECa1vco_C"
      },
      "source": [
        "### 4-1 熟能生巧"
      ]
    },
    {
      "cell_type": "markdown",
      "metadata": {
        "id": "5h78blBNco_C"
      },
      "source": [
        "#### 範例4-1: 基本資料調查的輸入與輸出\n",
        "\n",
        "**寫一個程式**\n",
        "\n",
        "- 螢幕輸出「請問貴姓大名？」，等待輸入姓名，顯示輸入姓名在螢幕上。\n",
        "- 螢幕輸出「請問年紀？」，等待輸入年紀，顯示輸入年紀在螢幕上。\n",
        "- 螢幕輸出「請問體重？」，等待輸入體重，顯示輸入體重在螢幕上。"
      ]
    },
    {
      "cell_type": "markdown",
      "metadata": {
        "id": "G7ZQdewLco_C"
      },
      "source": [
        "In [1]: name = input('請問貴姓大名？') \n",
        "   ...: print('你好，', name)\n",
        "   ...: \n",
        "   ...: age = int(input('請問年紀？'))\n",
        "   ...: print('原來你', age ,'歲')\n",
        "   ...: \n",
        "   ...: weight = float(input('請問體重？'))\n",
        "   ...: print('體重為', weight)\n",
        "\n",
        "請問貴姓大名？Francis\n",
        "你好， Francis\n",
        "\n",
        "請問年紀？18\n",
        "原來你 18 歲\n",
        "\n",
        "請問體重？100\n",
        "體重為 100.0"
      ]
    },
    {
      "cell_type": "code",
      "metadata": {
        "id": "DH36zNWoco_D"
      },
      "source": [
        ""
      ],
      "execution_count": null,
      "outputs": []
    },
    {
      "cell_type": "markdown",
      "metadata": {
        "id": "3Gn_4V4xco_D"
      },
      "source": [
        "#### 範例練習4-2： 計算圓面積與圓周長\n",
        "\n",
        "請設計一個程式計算圓面積與圓周長，依輸入的半徑計算圓面積與圓周長。"
      ]
    },
    {
      "cell_type": "code",
      "metadata": {
        "id": "DjdE9wO_co_D"
      },
      "source": [
        "In [1]: ## 給我半徑、用公式計算圓面積與周長\n",
        "   ...: ## Input\n",
        "   ...: radius = float(input('請輸入半徑？'))\n",
        "   ...: PI = 3.14159\n",
        "   ...: ## Process\n",
        "   ...: circumference = 2 * PI * radius\n",
        "   ...: area = radius * radius * PI\n",
        "   ...: ## Output\n",
        "   ...: print(f'圓周長為 {circumference}， 圓面積為 {area}。')\n",
        "\n",
        "請輸入半徑？10\n",
        "圓周長為 62.8318， 圓面積為 314.159。"
      ],
      "execution_count": null,
      "outputs": []
    },
    {
      "cell_type": "code",
      "metadata": {
        "id": "52hGEcQico_E"
      },
      "source": [
        ""
      ],
      "execution_count": null,
      "outputs": []
    },
    {
      "cell_type": "markdown",
      "metadata": {
        "id": "Vxi4qNi5co_E"
      },
      "source": [
        "**隨堂練習: 求圓環的面積**\n",
        "\n",
        "輸入外圓直徑r1與內圓直徑r2，求圓環面積。"
      ]
    },
    {
      "cell_type": "code",
      "metadata": {
        "id": "_CAjSP2Tco_E"
      },
      "source": [
        ""
      ],
      "execution_count": null,
      "outputs": []
    },
    {
      "cell_type": "markdown",
      "metadata": {
        "id": "If3ScT0wco_E"
      },
      "source": [
        "#### 範例練習4-3： 攝氏轉華氏\n",
        "\n",
        "請設計一個程式將輸入的攝氏溫度轉成華氏溫度，轉換公式如下:華氏溫度= 攝氏溫度*9/5+32"
      ]
    },
    {
      "cell_type": "code",
      "metadata": {
        "id": "2Uq9FnPsco_F"
      },
      "source": [
        "In [1]: ## Input\n",
        "   ...: c = float(input('請輸入攝氏溫度？')) \n",
        "   ...: \n",
        "   ...: ## Process\n",
        "   ...: f = c * 9/5 + 32                 \n",
        "   ...: \n",
        "   ...: ## Output\n",
        "   ...: print('華氏溫度為', f)\n",
        "\n",
        "請輸入攝氏溫度？30\n",
        "華氏溫度為 86.0\n",
        "\n",
        "In [2]: ## 延伸：華氏轉攝氏\n",
        "   ...: c1 = (f - 32) * (5/9)\n",
        "   ...: print(\"攝氏溫度\", c1)\n",
        "攝氏溫度 30.0"
      ],
      "execution_count": null,
      "outputs": []
    },
    {
      "cell_type": "code",
      "metadata": {
        "id": "rFPV7pxOco_F"
      },
      "source": [
        ""
      ],
      "execution_count": null,
      "outputs": []
    },
    {
      "cell_type": "markdown",
      "metadata": {
        "id": "o4s2qGhyco_F"
      },
      "source": [
        "**隨堂練習 : 英制轉公制**\n",
        "\n",
        "將身高由英制改成公制，例如5尺8吋換算成公制，1尺等於12吋，1吋等於2.54公分，轉換公式為(5*12+8)*2.54等於172.72公分。\n",
        "\n",
        "～預覽結果\n",
        "\n",
        "輸入「5」尺，輸入「8」吋，計算結果顯示在螢幕如下。\n",
        "\n",
        "請輸入幾尺？5\n",
        "\n",
        "請輸入幾吋？8\n",
        "\n",
        "轉換成 172.72 公分"
      ]
    },
    {
      "cell_type": "code",
      "metadata": {
        "id": "gXfnFQtEco_F"
      },
      "source": [
        ""
      ],
      "execution_count": null,
      "outputs": []
    },
    {
      "cell_type": "markdown",
      "metadata": {
        "id": "Cmy8K7Umco_G"
      },
      "source": [
        "#### 範例練習4-4:  服裝訂購系統\n",
        "\n",
        "**假設上衣300元、褲子350元與背心400元，使用者可以自行輸入三種服裝的數量，請設計一個程式計算訂購服裝的總金額。\n"
      ]
    },
    {
      "cell_type": "code",
      "metadata": {
        "id": "pKbNafaIco_G"
      },
      "source": [
        "In [1]: ## Total = P1*Q1 + P2*Q2 + P3*Q3\n",
        "   ...: ## Input Data\n",
        "   ...: cloth = int(input('請輸入上衣數量？')) \n",
        "   ...: trousers = int(input('請輸入褲子數量？'))\n",
        "   ...: vest = int(input('請輸入背心數量？'))\n",
        "   ...: ## Process\n",
        "   ...: total = cloth*300 + trousers*350 + vest*400\n",
        "   ...: ## Output\n",
        "   ...: print('訂購服裝的總金額為', total)\n",
        "\n",
        "請輸入上衣數量？10\n",
        "\n",
        "請輸入褲子數量？8\n",
        "\n",
        "請輸入背心數量？5\n",
        "訂購服裝的總金額為 7800"
      ],
      "execution_count": null,
      "outputs": []
    },
    {
      "cell_type": "code",
      "metadata": {
        "id": "9HoLdJ2qco_G"
      },
      "source": [
        ""
      ],
      "execution_count": null,
      "outputs": []
    },
    {
      "cell_type": "markdown",
      "metadata": {
        "id": "UHTY0sbuco_G"
      },
      "source": [
        "####  範例練習4-5: 賣場買飲料\n",
        "\n",
        "**為了刺激銷售量，賣場通常買一打會比買一罐便宜，假設一罐賣20元，一打賣200元，請設計一個程式計算買幾罐需花多少錢，若不足一打就個別買。**\n",
        "\n",
        "～預覽結果\n",
        "輸入購買飲料的罐數，如「30」，計算結果顯示在螢幕如下。\n",
        "請輸入購買飲料的罐數？30\n",
        "需花費 520"
      ]
    },
    {
      "cell_type": "code",
      "metadata": {
        "id": "XDey-vg9co_H"
      },
      "source": [
        "In [1]: ## Total = 200 * 幾打 ＋ 20 ＊ 罐\n",
        "   ...: ## Input Data\n",
        "   ...: cans = int(input('請輸入購買飲料的罐數？')) #數字轉文字\n",
        "   ...: ## Process\n",
        "   ...: total = (cans//12)*200 + (cans%12)*20\n",
        "   ...: ## Output\n",
        "   ...: print('需花費', total)\n",
        "\n",
        "請輸入購買飲料的罐數？124\n",
        "需花費 2080"
      ],
      "execution_count": null,
      "outputs": []
    },
    {
      "cell_type": "code",
      "metadata": {
        "id": "9Nnof4Cwco_H"
      },
      "source": [
        ""
      ],
      "execution_count": null,
      "outputs": []
    },
    {
      "cell_type": "markdown",
      "metadata": {
        "id": "WZ1TsqBGco_H"
      },
      "source": [
        "#### 範例練習4-6：求三數總和與平均\n",
        "\n",
        "**求第一次期中考、第二次期中考與期末考成績，成績皆為整數，請計算分數的加總與平均。**\n",
        "\n",
        "～預覽結果\n",
        "第一次期中考輸入「75」，第二次期中考輸入「80」，期末考輸入「65」，計算結果顯示在螢幕。\n",
        "請輸入第一次期中考成績？75\n",
        "請輸入第二次期中考成績？80\n",
        "請輸入期末考成績？65\n",
        "總分為 220 平均為 73.33333333333333"
      ]
    },
    {
      "cell_type": "code",
      "metadata": {
        "id": "H4E4J7Suco_I"
      },
      "source": [
        "In [1]: ## 計算三次成績的總和與平均\n",
        "   ...: ## Input Data\n",
        "   ...: first = int(input('請輸入第一次期中考成績？'))\n",
        "   ...: second = int(input('請輸入第二次期中考成績？'))\n",
        "   ...: final = int(input('請輸入期末考成績？'))\n",
        "   ...: ## Process\n",
        "   ...: sum = first + second + final\n",
        "   ...: average = sum/3\n",
        "   ...: ## Output\n",
        "   ...: print('總分為', sum, '平均為', average)\n",
        "\n",
        "請輸入第一次期中考成績？66\n",
        "\n",
        "請輸入第二次期中考成績？88\n",
        "\n",
        "請輸入期末考成績？90\n",
        "總分為 244 平均為 81.33333333333333"
      ],
      "execution_count": null,
      "outputs": []
    },
    {
      "cell_type": "code",
      "metadata": {
        "id": "3g5RHIGyco_I",
        "colab": {
          "base_uri": "https://localhost:8080/"
        },
        "outputId": "97ce95e9-17a6-4b06-a277-a419ba19d52f"
      },
      "source": [
        "x,y,z=eval(input(\"Enter your name\"))\n",
        "sum=x+y+z\n",
        "Average=sum/3\n",
        "print(f\"Total score is {sum} and average score is{Average}\")"
      ],
      "execution_count": null,
      "outputs": [
        {
          "output_type": "stream",
          "text": [
            "Enter your name88,95,60\n",
            "Total score is 243 and average score is81.0\n"
          ],
          "name": "stdout"
        }
      ]
    },
    {
      "cell_type": "markdown",
      "metadata": {
        "id": "G69ogpZpco_I"
      },
      "source": [
        "**隨堂練習： 請計算NBA 史上最偉大的中鋒之一，「柴油引擎」俠客歐尼爾（Shaquille O’Neal）巔峰時期的BMI。\n",
        "當時他的身高(216cm)與體重(147kg)，而其所對應的身體質量指數公式為BMI ＝ 公斤 / 公尺平方。"
      ]
    },
    {
      "cell_type": "code",
      "metadata": {
        "id": "dfaOauPoco_I"
      },
      "source": [
        "In [1]: player_name = input(\"請輸入球員姓名：\")\n",
        "   ...: player_height = input(\"請輸入球員身高（cm）：\")\n",
        "   ...: player_weight = input(\"請輸入球員體重（kg）：\")\n",
        "   ...: \n",
        "   ...: player_height = float(player_height)\n",
        "   ...: player_weight = float(player_weight)\n",
        "   ...: player_bmi = player_weight/(player_height*0.01)**2\n",
        "   ...: \n",
        "   ...: print(\"{}的身體質量指數為：{:.2f}\".format(player_name, player_bmi))\n",
        "   ...: print(player_name,'的身體質量指數為', player_bmi )\n",
        "\n",
        "請輸入球員姓名：Shaquille O’Neal\n",
        "\n",
        "請輸入球員身高（cm）：216\n",
        "\n",
        "請輸入球員體重（kg）：147\n",
        "Shaquille O’Neal的身體質量指數為：31.51\n",
        "Shaquille O’Neal 的身體質量指數為 31.507201646090532"
      ],
      "execution_count": null,
      "outputs": []
    },
    {
      "cell_type": "code",
      "metadata": {
        "id": "U6Oai5Wjco_J",
        "colab": {
          "base_uri": "https://localhost:8080/"
        },
        "outputId": "55b9ee9f-2023-4b55-8def-edcb39d56c44"
      },
      "source": [
        "player_name=input(\"請輸入球員姓名\")\n",
        "player_height=input(\"請輸入球員身高(cm):\")\n",
        "player_weight=input(\"請輸入球員體重(kg):\")\n",
        "player_height=float(player_height)\n",
        "player_weight=float(player_weight)\n",
        "player_bmi=player_weight/(player_height*0.01)**2\n",
        "print(\"{}的身體質量指數為：{:.2f}\".format(player_name, player_bmi))\n",
        "print(player_name,\"的身體質量指數為\",player_bmi)"
      ],
      "execution_count": null,
      "outputs": [
        {
          "output_type": "stream",
          "text": [
            "請輸入球員姓名Lydia\n",
            "請輸入球員身高(cm):166\n",
            "請輸入球員體重(kg):55\n",
            "Lydia的身體質量指數為：19.96\n",
            "Lydia 的身體質量指數為 19.95935549426622\n"
          ],
          "name": "stdout"
        }
      ]
    },
    {
      "cell_type": "markdown",
      "metadata": {
        "id": "NVdpdoO3co_J"
      },
      "source": [
        "### 4-2 運算思維四個基石"
      ]
    },
    {
      "cell_type": "markdown",
      "metadata": {
        "id": "d1QO3rdwco_J"
      },
      "source": [
        "#### 4-2-1. 抽象化 - 電影魔球"
      ]
    },
    {
      "cell_type": "code",
      "metadata": {
        "id": "AOwdZ_58co_J"
      },
      "source": [
        "In [1]: ## 1. 從IMBD電影資料庫找出要記錄的魔球電影相關資訊\n",
        "   ...: ## 網址：https://www.imdb.com/title/tt1210166/\n",
        "   ...: ## 相關資訊：電影名稱、放映日期......\n",
        "   ...: \n",
        "   ...: ## 2. 在Python用變數儲存資訊\n",
        "   ...: movie_title = \"money ball\" # 電影名稱\n",
        "   ...: release_year = \"2011\"  # 放映日期\n",
        "   ...: movie_time_min = 133 # 片長\n",
        "   ...: movie_rating = 7.6 #評分\n",
        "   ...: \n",
        "   ...: director = \"Bennett Miller\" # 導演\n",
        "   ...: stars_1 = \"Brad Pitt\" #主要演員\n",
        "   ...: stars_2 = \"Robin Wright\"\n",
        "   ...: stars_3 = \"Jonah Hill\" \n",
        "   ...: \n",
        "   ...: like = 1 # 你喜不喜歡\n",
        "   ...: \n",
        "   ...: ## 3. 印出魔球電影的相關資訊\n",
        "   ...: print(movie_title)  # 螢幕列印\n",
        "   ...: print(release_year)\n",
        "   ...: print(movie_time_min)\n",
        "money ball\n",
        "2011\n",
        "133"
      ],
      "execution_count": null,
      "outputs": []
    },
    {
      "cell_type": "code",
      "metadata": {
        "id": "0EcA8G8Xco_K",
        "colab": {
          "base_uri": "https://localhost:8080/"
        },
        "outputId": "7bbb495f-4821-4c75-8eed-e6c40e1f4fba"
      },
      "source": [
        "movie_title=\"Saving Private Ryan\"\n",
        "release_year=\"1998\"\n",
        "movie_time_min=\"169\"\n",
        "movie_rating=\"8.6\"\n",
        "director=\"Steven Spielberg\"\n",
        "star_1=\"Tom Hanks\"\n",
        "star_2=\"Matt Damon\"\n",
        "star_3=\"Tom Sizemore\"\n",
        "like=\"8\"\n",
        "print(movie_title)\n",
        "print(release_year)\n",
        "print(movie_time_min)\n"
      ],
      "execution_count": 2,
      "outputs": [
        {
          "output_type": "stream",
          "text": [
            "Saving Private Ryan\n",
            "1998\n",
            "169\n"
          ],
          "name": "stdout"
        }
      ]
    },
    {
      "cell_type": "markdown",
      "metadata": {
        "id": "Cp_Y16yCco_K"
      },
      "source": [
        "**請將123分鐘數轉換為幾小時幾分鐘。**"
      ]
    },
    {
      "cell_type": "code",
      "metadata": {
        "id": "NELgM4bOco_K",
        "colab": {
          "base_uri": "https://localhost:8080/",
          "height": 129
        },
        "outputId": "ee501434-ce77-469c-9357-e779a3cd4819"
      },
      "source": [
        "In [5]: # 將123分鐘轉成2小時3分鐘\n",
        "   ...: ## 1. 建立變數，輸入資料並儲存\n",
        "   ...: time = 123\n",
        "   ...: \n",
        "   ...: ## 2. 方法（一）\n",
        "   ...: ## 變數轉換為小時數\n",
        "   ...: hours = time/60 # 123/60 = 2.05\n",
        "   ...: hours1 = int(hours) #取整數為「時」\n",
        "   ...: \n",
        "   ...: ## 取得轉換後的分鐘數\n",
        "   ...: minutes = hours1 - hours #2.05-2 = 0.05\n",
        "   ...: minutes1 = round(minutes*60) # 0.05*60 = 3，但要四捨五入 \n",
        "   ...: \n",
        "   ...: ## 3. 顯示結果\n",
        "   ...: print(time, \"is equal to\", hours1,\"Hours and\",minutes1, \"Minutes\")\n",
        "123 is equal to 2 Hours and -3 Minutes"
      ],
      "execution_count": 5,
      "outputs": [
        {
          "output_type": "error",
          "ename": "SyntaxError",
          "evalue": "ignored",
          "traceback": [
            "\u001b[0;36m  File \u001b[0;32m\"<ipython-input-5-6fc4e5d52201>\"\u001b[0;36m, line \u001b[0;32m16\u001b[0m\n\u001b[0;31m    123 is equal to 2 Hours and -3 Minutes\u001b[0m\n\u001b[0m                  ^\u001b[0m\n\u001b[0;31mSyntaxError\u001b[0m\u001b[0;31m:\u001b[0m invalid syntax\n"
          ]
        }
      ]
    },
    {
      "cell_type": "code",
      "metadata": {
        "id": "vXFHZluUco_L",
        "colab": {
          "base_uri": "https://localhost:8080/"
        },
        "outputId": "cb2e382d-a80a-45e9-87be-2e23268451c8"
      },
      "source": [
        "time=125\n",
        "hours=time/60\n",
        "hoursa=int(hours)\n",
        "minutes=hours-hoursa\n",
        "minutesa=round(minutes*60)\n",
        "print(time,\"is equal to\",hoursa,\"hours and\",minutesa,\"minutes\" )"
      ],
      "execution_count": 6,
      "outputs": [
        {
          "output_type": "stream",
          "text": [
            "125 is equal to 2 hours and 5 minutes\n"
          ],
          "name": "stdout"
        }
      ]
    },
    {
      "cell_type": "code",
      "metadata": {
        "id": "NdLBYZtJco_L"
      },
      "source": [
        "In [6]: # 1. 建立變數，輸入資料並儲存\n",
        "   ...: time = 123\n",
        "   ...: \n",
        "   ...: # 2. 方法（二）運算子\n",
        "   ...: hours2 = time // 60  #商數為小時數\n",
        "   ...: minutes2 = time % 60  #餘數為分鐘數\n",
        "   ...: \n",
        "   ...: # 3. 顯示結果\n",
        "   ...: print(time, \"is equal to\", hours2, \"Hours and\", minutes2, \"Minutes\")\n",
        "123 is equal to 2 Hours and 3 Minutes\n"
      ],
      "execution_count": null,
      "outputs": []
    },
    {
      "cell_type": "code",
      "metadata": {
        "id": "RToXej1_co_L"
      },
      "source": [
        ""
      ],
      "execution_count": null,
      "outputs": []
    },
    {
      "cell_type": "markdown",
      "metadata": {
        "id": "U6g-oMTTco_L"
      },
      "source": [
        "#### 4-2-3. 模式辨識 - 報告分組"
      ]
    },
    {
      "cell_type": "markdown",
      "metadata": {
        "id": "22DB1zb7co_L"
      },
      "source": [
        "**範例說明：報告分組**\n",
        "\n",
        "因為教學需求，全班40位同學要進行分組報告，每五位同學一組，老師規定依座號順序分組，也就是1號到5號一組，6號到10號一組，請寫一個程式允許使用者輸入座號，輸出分組的組別。"
      ]
    },
    {
      "cell_type": "code",
      "metadata": {
        "id": "Ueq7qXBCco_M"
      },
      "source": [
        "～預覽結果\n",
        "輸入座號，例如「19」，計算結果顯示在螢幕如下。\n",
        "請輸入座號？19\n",
        "組別為 4\n",
        "\n",
        "～運算思維：模式辨識\n",
        "\n",
        "1 ，1/5 ......= 0.2  -> 商數0餘數1 ->  0,0\n",
        "\n",
        "2，2/5 ......= 0.4   -> 商數0餘數2 ->  0,1\n",
        "\n",
        "3，3/5 ......= 0.6   ->  商數0餘數3 -> 0,2\n",
        "\n",
        "4， 4/5 ......= 0.8  ->  商數0餘數4 -> 0,3\n",
        "\n",
        "5，5/5 ...... = 1     ->  商數1餘數0 -> 0,4"
      ],
      "execution_count": null,
      "outputs": []
    },
    {
      "cell_type": "code",
      "metadata": {
        "id": "nTQh7VLBco_M"
      },
      "source": [
        "## 運算思維 - 模式辨識\n",
        "## 方法（一）：餘數位置從0開始 + 商數為組數\n",
        "seats = int(input('請輸入座號？')) #文字轉數字\n",
        "groups = (seats - 1)//5 + 1\n",
        "print('組別為', groups)\n",
        "\n",
        "## 方法（二）：函式（上限為組別）\n",
        "import math\n",
        "seats = int(input(\"請輸入座號？\"))\n",
        "groups = math.ceil(seats/5)\n",
        "print(\"組別為\",groups)\n",
        "\n",
        "## 方法（三）：用餘數為條件分組\n",
        "seats = int(input(\"請輸入座號？ \"))\n",
        "if seats%5 == 0:\n",
        "    print(\"組別為\", seats//5)\n",
        "else:\n",
        "    print(\"組別為\", seats//5 +1)"
      ],
      "execution_count": null,
      "outputs": []
    },
    {
      "cell_type": "code",
      "metadata": {
        "id": "LHRrQxOaco_M"
      },
      "source": [
        ""
      ],
      "execution_count": null,
      "outputs": []
    },
    {
      "cell_type": "markdown",
      "metadata": {
        "id": "8zVmfXgBco_M"
      },
      "source": [
        "#### 4-2-4  問題拆解 - 打造你的聊天機器人"
      ]
    },
    {
      "cell_type": "markdown",
      "metadata": {
        "id": "7Dw7E9G7co_M"
      },
      "source": [
        "「哈囉，大家好。我叫Zyxo64，是一個聊天機器人。\n",
        "\n",
        "在嗜好與興趣方面，我很喜歡美食，也喜歡養動物。\n",
        "\n",
        "很高興有機會來到世新大學，請大家多多指教。\n",
        "\n",
        "嗨！妳好，請問大名？：**Francis**。\n",
        "\n",
        "*Francis*，很高興認識你。\n",
        "\n",
        "抱歉，請問一下今年是西元2021年，那是民國幾年呢？：*110*。\n",
        "\n",
        "對！沒錯，謝謝妳！\n",
        "\n",
        "**Francis**，猜猜看我今年幾歲？ ：**18**。\n",
        "\n",
        "哇！你好聰明，我今年的確*18*。\n",
        "\n",
        "再82年我就100歲了。\n",
        "\n",
        "那時候是西元 2103年，也就是民國192年囉！\n",
        "\n",
        "我喜歡吃巧克力，也喜歡嘗試各種新食物。\n",
        "\n",
        "你呢？你最喜歡的食物是什麼？**:披薩**。\n",
        "\n",
        "我也喜歡 *披薩*。\n",
        "\n",
        "你多久吃一次 *披薩*？**：每天**。\n",
        "\n",
        "真有趣。不知道這樣對健康好不好。\n",
        "\n",
        "我最喜歡的動物是長頸鹿。你呢？ **：烏龜**。\n",
        "\n",
        "我不喜歡*烏龜*！\n",
        "\n",
        "不知道 *烏龜* 喜不喜歡吃 *披薩*？\n",
        "\n",
        "你今天的心情如何？ **：很開心**。\n",
        "\n",
        "可以告訴我你 *開心* 的原因嗎？**因為週末了！** \n",
        "\n",
        "祝你週末愉快！\n",
        "\n",
        "我喜歡跟你聊天，現在有點累了，改天再聊吧！！\n",
        "\n",
        "再見 *Francis*！！！"
      ]
    },
    {
      "cell_type": "code",
      "metadata": {
        "id": "2XRDKo-Zco_N"
      },
      "source": [
        "# 1.聊天機器人自我介紹\n",
        "print(\"哈囉，大家好。我叫Zyxo64，是一個聊天機器人。\")\n",
        "hobby = \"我很喜歡美食東西，也喜歡養動物。今天很高興有機會來到世新大學，請大家多多指教。\"\n",
        "print( hobby )\n",
        "\n",
        "# 2. 打招呼，取得對方名字\n",
        "name = input(\"嗨！妳好，請問大名？: \")\n",
        "print(\"你好\", name, \"很高興認識你\")\n",
        "\n",
        "# 3. 數學運算\n",
        "## 3-1 從使用者取得今年年份\n",
        "year = input(\"請問一下今年是西元2021年，那是民國幾年呢？ \")\n",
        "print(\"對！應該沒錯，謝謝妳！\")\n",
        "\n",
        "## 3-2 請使用者猜年齡\n",
        "myage = int(input(\"Francis，猜猜看我今年幾歲？ \"))\n",
        "print(\"哇！你好聰明，我今年的確\", myage)\n",
        "\n",
        "## 3-3 計算聊天機器人滿100歲的年份\n",
        "nyears = 100 - myage\n",
        "print(\"我再\", nyears, \"年就滿100歲了。\")\n",
        "\n",
        "print(\"到時候是西元\", int(year) + nyears + 1911, \"年\") # 將今年年份轉換為整數\n",
        "print(\"也就是民國\", int(year) + nyear, \"年\") # 民國幾年"
      ],
      "execution_count": null,
      "outputs": []
    },
    {
      "cell_type": "code",
      "metadata": {
        "id": "i7ik-3Uzco_N"
      },
      "source": [
        ""
      ],
      "execution_count": null,
      "outputs": []
    },
    {
      "cell_type": "code",
      "metadata": {
        "id": "gHS07xUUco_N"
      },
      "source": [
        "# 4 興趣\n",
        "## 4-1 食物話題\n",
        "print(\"我喜歡巧克力，也喜歡嘗試各種新食物。\")\n",
        "food = input(\"你呢。你最喜歡的食物是什麼？： \")\n",
        "print(\"我也喜歡\", food)\n",
        "question = \"你多久吃一次\" + food + \"?: \"\n",
        "howoften = input(question)\n",
        "print(\"真有趣。不知道這樣對健康好不好！\")\n",
        "\n",
        "## 4-2 動物話題\n",
        "animal = input(\"我最喜歡的動物是長頸鹿。你呢？； \")\n",
        "print(\"我不喜歡\", animal)\n",
        "print(\"不知道\", animal, \"喜不喜歡吃\", food, \"?\")\n",
        "\n",
        "# 5. 關於心情的對話\n",
        "feeling = input(\"你今天心情如何？； \")\n",
        "print(\"可以告訴我，你\", feeling, \"的原因。 \")\n",
        "reason = input(\"為什麼： \")\n",
        "print(\"我知道了。謝謝分享。\")\n",
        "\n",
        "# 6. 道別\n",
        "print(\"祝你週末愉快！\")\n",
        "print(\"我喜歡跟你聊天，現在有點累了，下次再聊!!\")\n",
        "print(\"再見\", name, \"我喜歡跟你聊天！\")\n"
      ],
      "execution_count": null,
      "outputs": []
    },
    {
      "cell_type": "code",
      "metadata": {
        "id": "Hbz2Jn6Gco_O"
      },
      "source": [
        ""
      ],
      "execution_count": null,
      "outputs": []
    }
  ]
}